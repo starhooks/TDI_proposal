{
 "cells": [
  {
   "cell_type": "markdown",
   "metadata": {},
   "source": [
    "# Analysis of Chicago Parking Tickets Data - 1"
   ]
  },
  {
   "attachments": {},
   "cell_type": "markdown",
   "metadata": {},
   "source": [
    "## Result Figure 1: Visualize the Decreasing Trend of Issued Expired Meter Tickets (Due to ParkChicago App)\n",
    "\n",
    "![image.png](./Fig1.png)"
   ]
  },
  {
   "attachments": {},
   "cell_type": "markdown",
   "metadata": {},
   "source": [
    "## Code for getting the result"
   ]
  },
  {
   "cell_type": "code",
   "execution_count": 4,
   "metadata": {},
   "outputs": [],
   "source": [
    "import pandas as pd\n",
    "import numpy as np\n",
    "import matplotlib.pyplot as plt\n",
    "import seaborn as sns\n",
    "import os\n",
    "import geocoder\n",
    "import requests"
   ]
  },
  {
   "cell_type": "markdown",
   "metadata": {},
   "source": [
    "## 1) Prepare the data\n",
    "Prepare the data by years: run the python file __proj_2_pre.py__ to parse the City of Chicago Parking Ticket data accoding to concerned years.\n",
    "\n",
    "First need to download the City of Chicago Parking Ticket data from https://www.propublica.org/datastore/dataset/chicago-parking-ticket-data"
   ]
  },
  {
   "cell_type": "code",
   "execution_count": 5,
   "metadata": {},
   "outputs": [],
   "source": [
    "# Parse the recent 5 years history from the raw data\n",
    "year_vec = ['2012','2013','2014','2015','2016','2017']\n",
    "numTickets = pd.DataFrame(columns = ['time', 'number'])"
   ]
  },
  {
   "cell_type": "code",
   "execution_count": 6,
   "metadata": {},
   "outputs": [
    {
     "name": "stderr",
     "output_type": "stream",
     "text": [
      "/home/xma/anaconda3/lib/python3.7/site-packages/IPython/core/interactiveshell.py:2785: DtypeWarning: Columns (6) have mixed types. Specify dtype option on import or set low_memory=False.\n",
      "  interactivity=interactivity, compiler=compiler, result=result)\n"
     ]
    },
    {
     "name": "stdout",
     "output_type": "stream",
     "text": [
      "Meter violation rate = 0.17625227733226137\n",
      "2012-01 12\n",
      "2012-02 6933\n",
      "2012-03 44138\n",
      "2012-04 39621\n",
      "2012-05 36350\n",
      "2012-06 43331\n",
      "2012-07 40396\n",
      "2012-08 44021\n",
      "2012-09 38991\n",
      "2012-10 42921\n",
      "2012-11 43392\n",
      "2012-12 42563\n",
      "Meter violation rate = 0.18305806173816982\n",
      "2013-01 39198\n",
      "2013-02 31436\n",
      "2013-03 43800\n",
      "2013-04 39637\n",
      "2013-05 39683\n",
      "2013-06 33296\n",
      "2013-07 40158\n",
      "2013-08 39509\n",
      "2013-09 35634\n",
      "2013-10 41535\n",
      "2013-11 41532\n",
      "2013-12 41385\n"
     ]
    },
    {
     "name": "stderr",
     "output_type": "stream",
     "text": [
      "/home/xma/anaconda3/lib/python3.7/site-packages/IPython/core/interactiveshell.py:2785: DtypeWarning: Columns (6,9) have mixed types. Specify dtype option on import or set low_memory=False.\n",
      "  interactivity=interactivity, compiler=compiler, result=result)\n"
     ]
    },
    {
     "name": "stdout",
     "output_type": "stream",
     "text": [
      "Meter violation rate = 0.1606539376001994\n",
      "2014-01 36037\n",
      "2014-02 35555\n",
      "2014-03 48334\n",
      "2014-04 42593\n",
      "2014-05 37784\n",
      "2014-06 28408\n",
      "2014-07 24223\n",
      "2014-08 22607\n",
      "2014-09 24421\n",
      "2014-10 30449\n",
      "2014-11 25476\n",
      "2014-12 28314\n",
      "Meter violation rate = 0.16515805429332875\n",
      "2015-01 30343\n",
      "2015-02 22616\n",
      "2015-03 35703\n",
      "2015-04 35292\n",
      "2015-05 34119\n",
      "2015-06 31836\n",
      "2015-07 34301\n",
      "2015-08 32327\n",
      "2015-09 33193\n",
      "2015-10 36106\n",
      "2015-11 35292\n",
      "2015-12 34065\n",
      "Meter violation rate = 0.16373386731160453\n",
      "2016-01 30669\n",
      "2016-02 30329\n",
      "2016-03 34517\n",
      "2016-04 29099\n",
      "2016-05 29249\n",
      "2016-06 29569\n",
      "2016-07 28326\n",
      "2016-08 30212\n",
      "2016-09 29234\n",
      "2016-10 31070\n",
      "2016-11 35506\n",
      "2016-12 31321\n",
      "Meter violation rate = 0.18224380110437283\n",
      "2017-01 33225\n",
      "2017-02 31533\n",
      "2017-03 34988\n",
      "2017-04 31697\n",
      "2017-05 30766\n",
      "2017-06 30178\n",
      "2017-07 31049\n",
      "2017-08 33720\n",
      "2017-09 30333\n",
      "2017-10 29968\n",
      "2017-11 31816\n",
      "2017-12 26907\n"
     ]
    }
   ],
   "source": [
    "k = 0\n",
    "for i in range(len(year_vec)):\n",
    "#year = '2010'\n",
    "    year = year_vec[i]\n",
    "\n",
    "    filename_c = 'issue_' + year + '.csv'\n",
    "    #filename_c = 'issue_2018.csv'\n",
    "    data = pd.read_csv(filename_c, sep=',') \n",
    "    \n",
    "    data = data[~data.violation_description.str.contains(\"EXPIRED PLATE OR TEMPORARY REGISTRATION\")]\n",
    "    \n",
    "    violations = data['violation_description']\n",
    "    vio_cont = violations.value_counts()\n",
    "    \n",
    "    \n",
    "    vio_meter = vio_cont['EXP. METER NON-CENTRAL BUSINESS DISTRICT'] +\\\n",
    "                vio_cont['EXPIRED METER CENTRAL BUSINESS DISTRICT']\n",
    "                \n",
    "    vio_total = len(violations)\n",
    "    \n",
    "    vioRate_meter = vio_meter/ vio_total\n",
    "    \n",
    "    print('Meter violation rate = ' + str(vioRate_meter))\n",
    "    \n",
    "    # put expired meters violation in a dataframe\n",
    "    searchfor = ['EXP. METER NON-CENTRAL BUSINESS DISTRICT',\n",
    "                 'EXPIRED METER CENTRAL BUSINESS DISTRICT']\n",
    "    meters = data[data.violation_description.str.contains('|'.join(searchfor))]\n",
    "    \n",
    "    \n",
    "    \n",
    "    ### see data by months\n",
    "    \n",
    "    vio_months = []\n",
    "    for i in range(1, 13):\n",
    "        if i < 10:\n",
    "            month = ('0'+str(i))\n",
    "        else:\n",
    "            month = (str(i)) \n",
    "            \n",
    "        time_str = year +'-'+ month  \n",
    "        \n",
    "        \n",
    "        #data_tmp = full_df.loc[full_df.issue_date.str.contains(time_str)]\n",
    "        data_tmp = meters.loc[meters.issue_date.str.contains(time_str)]\n",
    "        \n",
    "        vio_months.append([time_str, data_tmp])\n",
    "        print(time_str, len(data_tmp))\n",
    "        \n",
    "    # calculate tickets number by months\n",
    "    #numTickets = []    \n",
    "    for i in range(len(vio_months)):\n",
    "        num = len(vio_months[i][1])\n",
    "        time_str = vio_months[i][0]\n",
    "        #numTickets.append([time_str, num])\n",
    "        item = [time_str, num]\n",
    "        \n",
    "        k += 1\n",
    "        numTickets.loc[k] = item\n",
    "\n",
    "\n",
    "\n"
   ]
  },
  {
   "cell_type": "markdown",
   "metadata": {},
   "source": [
    "## 2) Visualize the Decreasing Trend of Issued Expired Meter Tickets (Due to ParkChicago App)\n",
    "\n",
    "Now Visualize the trend of amount of expired meter tickets by month. It has the trend to decrease over time. The major reason might be the utilization of \"ParkChicago\" since 2014\n"
   ]
  },
  {
   "cell_type": "code",
   "execution_count": 7,
   "metadata": {},
   "outputs": [
    {
     "data": {
      "text/plain": [
       "Text(0.5, 1.0, 'Monthly Amount of Issued Tickets for Expired Meters')"
      ]
     },
     "execution_count": 7,
     "metadata": {},
     "output_type": "execute_result"
    },
    {
     "data": {
      "image/png": "[encoded data removed]",
      "text/plain": [
       "<Figure size 720x432 with 1 Axes>"
      ]
     },
     "metadata": {
      "needs_background": "light"
     },
     "output_type": "display_data"
    }
   ],
   "source": [
    "ax = numTickets.number.plot(xticks= numTickets.index[1:len(numTickets.index):12], rot=90, figsize=(10,6))\n",
    "ax.set_xticklabels(numTickets.time[1:len(numTickets):12],rotation=90)\n",
    "plt.tight_layout()\n",
    "plt.xlabel('Time',fontsize=18)\n",
    "plt.ylabel('Amount',fontsize=18)\n",
    "plt.title('Monthly Amount of Issued Tickets for Expired Meters', fontsize = 18)"
   ]
  },
  {
   "cell_type": "code",
   "execution_count": null,
   "metadata": {},
   "outputs": [],
   "source": []
  },
  {
   "cell_type": "code",
   "execution_count": null,
   "metadata": {},
   "outputs": [],
   "source": []
  }
 ],
 "metadata": {
  "kernelspec": {
   "display_name": "Python 3",
   "language": "python",
   "name": "python3"
  },
  "language_info": {
   "codemirror_mode": {
    "name": "ipython",
    "version": 3
   },
   "file_extension": ".py",
   "mimetype": "text/x-python",
   "name": "python",
   "nbconvert_exporter": "python",
   "pygments_lexer": "ipython3",
   "version": "3.7.1"
  }
 },
 "nbformat": 4,
 "nbformat_minor": 2
}
