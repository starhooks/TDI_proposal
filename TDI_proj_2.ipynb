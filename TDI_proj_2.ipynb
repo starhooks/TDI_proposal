{
 "cells": [
  {
   "cell_type": "markdown",
   "metadata": {},
   "source": [
    "# Analysis of Chicago Parking Tickets Data - 2\n",
    "\n",
    "##  Visualize the most recent Expired Parking Tickets Conditions in 2018"
   ]
  },
  {
   "attachments": {},
   "cell_type": "markdown",
   "metadata": {},
   "source": [
    "## Result Figure 2: \n",
    "![image.png](./Fig2.png)"
   ]
  },
  {
   "cell_type": "markdown",
   "metadata": {},
   "source": [
    "## Code:"
   ]
  },
  {
   "cell_type": "markdown",
   "metadata": {},
   "source": [
    "### 1) Preprocess the data\n",
    "\n",
    "Prepare the data by years: \n",
    "Option 1: run __TDI_proj_1.ipynb__ first before running this file\n",
    "\n",
    "Option 2: run the python __file proj_2_pre.py__ to get the City of Chicago Parking Ticket dadta split accoding to concerned years.\n",
    "\n",
    "First need to download the City of Chicago Parking Ticket data from https://www.propublica.org/datastore/dataset/chicago-parking-ticket-data\n"
   ]
  },
  {
   "cell_type": "code",
   "execution_count": 1,
   "metadata": {},
   "outputs": [],
   "source": [
    "import pandas as pd\n",
    "import numpy as np\n",
    "import matplotlib.pyplot as plt\n",
    "import seaborn as sns\n",
    "import os\n",
    "import geocoder\n",
    "import requests"
   ]
  },
  {
   "cell_type": "code",
   "execution_count": 2,
   "metadata": {},
   "outputs": [
    {
     "name": "stderr",
     "output_type": "stream",
     "text": [
      "/home/xma/anaconda3/lib/python3.7/site-packages/IPython/core/interactiveshell.py:2785: DtypeWarning: Columns (6,19,21) have mixed types. Specify dtype option on import or set low_memory=False.\n",
      "  interactivity=interactivity, compiler=compiler, result=result)\n"
     ]
    }
   ],
   "source": [
    "# Load data of 2018\n",
    "filename_c = 'issue_2018.csv'\n",
    "data = pd.read_csv(filename_c, sep=',') "
   ]
  },
  {
   "cell_type": "code",
   "execution_count": 3,
   "metadata": {},
   "outputs": [],
   "source": [
    "# get rid of \"Expired plate or registration\" data\n",
    "data = data[~data.violation_description.str.contains(\"EXPIRED PLATE OR TEMPORARY REGISTRATION\")]"
   ]
  },
  {
   "cell_type": "code",
   "execution_count": 5,
   "metadata": {},
   "outputs": [
    {
     "name": "stdout",
     "output_type": "stream",
     "text": [
      "Expired meter violation rate = 0.2658330350395736\n"
     ]
    }
   ],
   "source": [
    "# Get Expired meter violation\n",
    "violations = data['violation_description']\n",
    "vio_cont = violations.value_counts()\n",
    "vio_meter = vio_cont['EXP. METER NON-CENTRAL BUSINESS DISTRICT'] +\\\n",
    "            vio_cont['EXPIRED METER CENTRAL BUSINESS DISTRICT']            \n",
    "vio_total = len(violations)\n",
    "vioRate_meter = vio_meter/ vio_total\n",
    "print('Expired meter violation rate = ' + str(vioRate_meter))"
   ]
  },
  {
   "cell_type": "markdown",
   "metadata": {},
   "source": [
    "The rate is bit higher since the data is not completed for 2018. Only 5 months covered."
   ]
  },
  {
   "cell_type": "code",
   "execution_count": 6,
   "metadata": {},
   "outputs": [],
   "source": [
    "# put expired meters violation in a dataframe\n",
    "searchfor = ['EXP. METER NON-CENTRAL BUSINESS DISTRICT',\n",
    "             'EXPIRED METER CENTRAL BUSINESS DISTRICT']\n",
    "meters = data[data.violation_description.str.contains('|'.join(searchfor))]"
   ]
  },
  {
   "cell_type": "code",
   "execution_count": 7,
   "metadata": {},
   "outputs": [],
   "source": [
    "# visulaize geographically\n",
    "geo_file = 'hacknight_sample_data_geocode.csv'\n",
    "addrs_df = pd.read_csv(geo_file)\n",
    "addrs_df['address'] = addrs_df['address'] + ', chicago, il'\n"
   ]
  },
  {
   "cell_type": "code",
   "execution_count": 8,
   "metadata": {},
   "outputs": [
    {
     "data": {
      "text/html": [
       "<div>\n",
       "<style scoped>\n",
       "    .dataframe tbody tr th:only-of-type {\n",
       "        vertical-align: middle;\n",
       "    }\n",
       "\n",
       "    .dataframe tbody tr th {\n",
       "        vertical-align: top;\n",
       "    }\n",
       "\n",
       "    .dataframe thead th {\n",
       "        text-align: right;\n",
       "    }\n",
       "</style>\n",
       "<table border=\"1\" class=\"dataframe\">\n",
       "  <thead>\n",
       "    <tr style=\"text-align: right;\">\n",
       "      <th></th>\n",
       "      <th>ticket_number</th>\n",
       "      <th>issue_date</th>\n",
       "      <th>violation_location</th>\n",
       "      <th>license_plate_number</th>\n",
       "      <th>license_plate_state</th>\n",
       "      <th>license_plate_type</th>\n",
       "      <th>zipcode</th>\n",
       "      <th>violation_code</th>\n",
       "      <th>violation_description</th>\n",
       "      <th>unit</th>\n",
       "      <th>...</th>\n",
       "      <th>total_payments</th>\n",
       "      <th>ticket_queue</th>\n",
       "      <th>ticket_queue_date</th>\n",
       "      <th>notice_level</th>\n",
       "      <th>hearing_disposition</th>\n",
       "      <th>notice_number</th>\n",
       "      <th>officer</th>\n",
       "      <th>address</th>\n",
       "      <th>lat</th>\n",
       "      <th>lng</th>\n",
       "    </tr>\n",
       "  </thead>\n",
       "  <tbody>\n",
       "    <tr>\n",
       "      <th>0</th>\n",
       "      <td>9192421142</td>\n",
       "      <td>2018-01-01 14:41:00</td>\n",
       "      <td>415 S COLUMBUS DR</td>\n",
       "      <td>4e0ad89d0504a5949211cf74b27d09c10ae52968ee6299...</td>\n",
       "      <td>IL</td>\n",
       "      <td>PAS</td>\n",
       "      <td>NaN</td>\n",
       "      <td>0964190A</td>\n",
       "      <td>EXP. METER NON-CENTRAL BUSINESS DISTRICT</td>\n",
       "      <td>729</td>\n",
       "      <td>...</td>\n",
       "      <td>0.0</td>\n",
       "      <td>Dismissed</td>\n",
       "      <td>2018-01-03 00:00:00</td>\n",
       "      <td>NaN</td>\n",
       "      <td>NaN</td>\n",
       "      <td>0</td>\n",
       "      <td>1492</td>\n",
       "      <td>400 s columbus dr, chicago, il</td>\n",
       "      <td>41.876886</td>\n",
       "      <td>-87.620693</td>\n",
       "    </tr>\n",
       "    <tr>\n",
       "      <th>1</th>\n",
       "      <td>9192592505</td>\n",
       "      <td>2018-01-03 16:09:00</td>\n",
       "      <td>415 S COLUMBUS DR</td>\n",
       "      <td>4e0ad89d0504a5949211cf74b27d09c10ae52968ee6299...</td>\n",
       "      <td>IL</td>\n",
       "      <td>PAS</td>\n",
       "      <td>NaN</td>\n",
       "      <td>0964190B</td>\n",
       "      <td>EXPIRED METER CENTRAL BUSINESS DISTRICT</td>\n",
       "      <td>729</td>\n",
       "      <td>...</td>\n",
       "      <td>0.0</td>\n",
       "      <td>Dismissed</td>\n",
       "      <td>2018-01-05 00:00:00</td>\n",
       "      <td>NaN</td>\n",
       "      <td>NaN</td>\n",
       "      <td>0</td>\n",
       "      <td>1503</td>\n",
       "      <td>400 s columbus dr, chicago, il</td>\n",
       "      <td>41.876886</td>\n",
       "      <td>-87.620693</td>\n",
       "    </tr>\n",
       "    <tr>\n",
       "      <th>2</th>\n",
       "      <td>9192592535</td>\n",
       "      <td>2018-01-04 14:41:00</td>\n",
       "      <td>415 S COLUMBUS DR</td>\n",
       "      <td>4e0ad89d0504a5949211cf74b27d09c10ae52968ee6299...</td>\n",
       "      <td>IL</td>\n",
       "      <td>PAS</td>\n",
       "      <td>NaN</td>\n",
       "      <td>0964190B</td>\n",
       "      <td>EXPIRED METER CENTRAL BUSINESS DISTRICT</td>\n",
       "      <td>729</td>\n",
       "      <td>...</td>\n",
       "      <td>0.0</td>\n",
       "      <td>Dismissed</td>\n",
       "      <td>2018-01-08 00:00:00</td>\n",
       "      <td>NaN</td>\n",
       "      <td>NaN</td>\n",
       "      <td>0</td>\n",
       "      <td>1513</td>\n",
       "      <td>400 s columbus dr, chicago, il</td>\n",
       "      <td>41.876886</td>\n",
       "      <td>-87.620693</td>\n",
       "    </tr>\n",
       "    <tr>\n",
       "      <th>3</th>\n",
       "      <td>9192672170</td>\n",
       "      <td>2018-01-05 13:14:00</td>\n",
       "      <td>415 S COLUMBUS DR</td>\n",
       "      <td>4e0ad89d0504a5949211cf74b27d09c10ae52968ee6299...</td>\n",
       "      <td>IL</td>\n",
       "      <td>PAS</td>\n",
       "      <td>NaN</td>\n",
       "      <td>0964190B</td>\n",
       "      <td>EXPIRED METER CENTRAL BUSINESS DISTRICT</td>\n",
       "      <td>729</td>\n",
       "      <td>...</td>\n",
       "      <td>0.0</td>\n",
       "      <td>Dismissed</td>\n",
       "      <td>2018-01-08 00:00:00</td>\n",
       "      <td>NaN</td>\n",
       "      <td>NaN</td>\n",
       "      <td>0</td>\n",
       "      <td>1392</td>\n",
       "      <td>400 s columbus dr, chicago, il</td>\n",
       "      <td>41.876886</td>\n",
       "      <td>-87.620693</td>\n",
       "    </tr>\n",
       "    <tr>\n",
       "      <th>4</th>\n",
       "      <td>9192624790</td>\n",
       "      <td>2018-01-05 16:22:00</td>\n",
       "      <td>415 S COLUMBUS DR</td>\n",
       "      <td>4e0ad89d0504a5949211cf74b27d09c10ae52968ee6299...</td>\n",
       "      <td>IL</td>\n",
       "      <td>PAS</td>\n",
       "      <td>NaN</td>\n",
       "      <td>0964190B</td>\n",
       "      <td>EXPIRED METER CENTRAL BUSINESS DISTRICT</td>\n",
       "      <td>729</td>\n",
       "      <td>...</td>\n",
       "      <td>0.0</td>\n",
       "      <td>Dismissed</td>\n",
       "      <td>2018-01-08 00:00:00</td>\n",
       "      <td>NaN</td>\n",
       "      <td>NaN</td>\n",
       "      <td>0</td>\n",
       "      <td>1487</td>\n",
       "      <td>400 s columbus dr, chicago, il</td>\n",
       "      <td>41.876886</td>\n",
       "      <td>-87.620693</td>\n",
       "    </tr>\n",
       "  </tbody>\n",
       "</table>\n",
       "<p>5 rows × 25 columns</p>\n",
       "</div>"
      ],
      "text/plain": [
       "   ticket_number           issue_date violation_location  \\\n",
       "0     9192421142  2018-01-01 14:41:00  415 S COLUMBUS DR   \n",
       "1     9192592505  2018-01-03 16:09:00  415 S COLUMBUS DR   \n",
       "2     9192592535  2018-01-04 14:41:00  415 S COLUMBUS DR   \n",
       "3     9192672170  2018-01-05 13:14:00  415 S COLUMBUS DR   \n",
       "4     9192624790  2018-01-05 16:22:00  415 S COLUMBUS DR   \n",
       "\n",
       "                                license_plate_number license_plate_state  \\\n",
       "0  4e0ad89d0504a5949211cf74b27d09c10ae52968ee6299...                  IL   \n",
       "1  4e0ad89d0504a5949211cf74b27d09c10ae52968ee6299...                  IL   \n",
       "2  4e0ad89d0504a5949211cf74b27d09c10ae52968ee6299...                  IL   \n",
       "3  4e0ad89d0504a5949211cf74b27d09c10ae52968ee6299...                  IL   \n",
       "4  4e0ad89d0504a5949211cf74b27d09c10ae52968ee6299...                  IL   \n",
       "\n",
       "  license_plate_type zipcode violation_code  \\\n",
       "0                PAS     NaN       0964190A   \n",
       "1                PAS     NaN       0964190B   \n",
       "2                PAS     NaN       0964190B   \n",
       "3                PAS     NaN       0964190B   \n",
       "4                PAS     NaN       0964190B   \n",
       "\n",
       "                      violation_description  unit    ...     total_payments  \\\n",
       "0  EXP. METER NON-CENTRAL BUSINESS DISTRICT   729    ...                0.0   \n",
       "1   EXPIRED METER CENTRAL BUSINESS DISTRICT   729    ...                0.0   \n",
       "2   EXPIRED METER CENTRAL BUSINESS DISTRICT   729    ...                0.0   \n",
       "3   EXPIRED METER CENTRAL BUSINESS DISTRICT   729    ...                0.0   \n",
       "4   EXPIRED METER CENTRAL BUSINESS DISTRICT   729    ...                0.0   \n",
       "\n",
       "  ticket_queue    ticket_queue_date  notice_level  hearing_disposition  \\\n",
       "0    Dismissed  2018-01-03 00:00:00           NaN                  NaN   \n",
       "1    Dismissed  2018-01-05 00:00:00           NaN                  NaN   \n",
       "2    Dismissed  2018-01-08 00:00:00           NaN                  NaN   \n",
       "3    Dismissed  2018-01-08 00:00:00           NaN                  NaN   \n",
       "4    Dismissed  2018-01-08 00:00:00           NaN                  NaN   \n",
       "\n",
       "   notice_number officer                         address        lat        lng  \n",
       "0              0    1492  400 s columbus dr, chicago, il  41.876886 -87.620693  \n",
       "1              0    1503  400 s columbus dr, chicago, il  41.876886 -87.620693  \n",
       "2              0    1513  400 s columbus dr, chicago, il  41.876886 -87.620693  \n",
       "3              0    1392  400 s columbus dr, chicago, il  41.876886 -87.620693  \n",
       "4              0    1487  400 s columbus dr, chicago, il  41.876886 -87.620693  \n",
       "\n",
       "[5 rows x 25 columns]"
      ]
     },
     "execution_count": 8,
     "metadata": {},
     "output_type": "execute_result"
    }
   ],
   "source": [
    "# add geo info\n",
    "geocoded_df = pd.merge(left=meters, right=addrs_df, how='inner', on='address')\n",
    "geocoded_df.head()"
   ]
  },
  {
   "cell_type": "code",
   "execution_count": 9,
   "metadata": {},
   "outputs": [
    {
     "data": {
      "text/html": [
       "<div>\n",
       "<style scoped>\n",
       "    .dataframe tbody tr th:only-of-type {\n",
       "        vertical-align: middle;\n",
       "    }\n",
       "\n",
       "    .dataframe tbody tr th {\n",
       "        vertical-align: top;\n",
       "    }\n",
       "\n",
       "    .dataframe thead th {\n",
       "        text-align: right;\n",
       "    }\n",
       "</style>\n",
       "<table border=\"1\" class=\"dataframe\">\n",
       "  <thead>\n",
       "    <tr style=\"text-align: right;\">\n",
       "      <th></th>\n",
       "      <th>ticket_number</th>\n",
       "      <th>issue_date</th>\n",
       "      <th>violation_location</th>\n",
       "      <th>license_plate_number</th>\n",
       "      <th>license_plate_state</th>\n",
       "      <th>license_plate_type</th>\n",
       "      <th>zipcode</th>\n",
       "      <th>violation_code</th>\n",
       "      <th>violation_description</th>\n",
       "      <th>unit</th>\n",
       "      <th>...</th>\n",
       "      <th>ticket_queue</th>\n",
       "      <th>ticket_queue_date</th>\n",
       "      <th>notice_level</th>\n",
       "      <th>hearing_disposition</th>\n",
       "      <th>notice_number</th>\n",
       "      <th>officer</th>\n",
       "      <th>address</th>\n",
       "      <th>lat</th>\n",
       "      <th>lng</th>\n",
       "      <th>geometry</th>\n",
       "    </tr>\n",
       "  </thead>\n",
       "  <tbody>\n",
       "    <tr>\n",
       "      <th>0</th>\n",
       "      <td>9192421142</td>\n",
       "      <td>2018-01-01 14:41:00</td>\n",
       "      <td>415 S COLUMBUS DR</td>\n",
       "      <td>4e0ad89d0504a5949211cf74b27d09c10ae52968ee6299...</td>\n",
       "      <td>IL</td>\n",
       "      <td>PAS</td>\n",
       "      <td>NaN</td>\n",
       "      <td>0964190A</td>\n",
       "      <td>EXP. METER NON-CENTRAL BUSINESS DISTRICT</td>\n",
       "      <td>729</td>\n",
       "      <td>...</td>\n",
       "      <td>Dismissed</td>\n",
       "      <td>2018-01-03 00:00:00</td>\n",
       "      <td>NaN</td>\n",
       "      <td>NaN</td>\n",
       "      <td>0</td>\n",
       "      <td>1492</td>\n",
       "      <td>400 s columbus dr, chicago, il</td>\n",
       "      <td>41.876886</td>\n",
       "      <td>-87.620693</td>\n",
       "      <td>POINT (-87.62069322093538 41.87688606754699)</td>\n",
       "    </tr>\n",
       "    <tr>\n",
       "      <th>1</th>\n",
       "      <td>9192592505</td>\n",
       "      <td>2018-01-03 16:09:00</td>\n",
       "      <td>415 S COLUMBUS DR</td>\n",
       "      <td>4e0ad89d0504a5949211cf74b27d09c10ae52968ee6299...</td>\n",
       "      <td>IL</td>\n",
       "      <td>PAS</td>\n",
       "      <td>NaN</td>\n",
       "      <td>0964190B</td>\n",
       "      <td>EXPIRED METER CENTRAL BUSINESS DISTRICT</td>\n",
       "      <td>729</td>\n",
       "      <td>...</td>\n",
       "      <td>Dismissed</td>\n",
       "      <td>2018-01-05 00:00:00</td>\n",
       "      <td>NaN</td>\n",
       "      <td>NaN</td>\n",
       "      <td>0</td>\n",
       "      <td>1503</td>\n",
       "      <td>400 s columbus dr, chicago, il</td>\n",
       "      <td>41.876886</td>\n",
       "      <td>-87.620693</td>\n",
       "      <td>POINT (-87.62069322093538 41.87688606754699)</td>\n",
       "    </tr>\n",
       "    <tr>\n",
       "      <th>2</th>\n",
       "      <td>9192592535</td>\n",
       "      <td>2018-01-04 14:41:00</td>\n",
       "      <td>415 S COLUMBUS DR</td>\n",
       "      <td>4e0ad89d0504a5949211cf74b27d09c10ae52968ee6299...</td>\n",
       "      <td>IL</td>\n",
       "      <td>PAS</td>\n",
       "      <td>NaN</td>\n",
       "      <td>0964190B</td>\n",
       "      <td>EXPIRED METER CENTRAL BUSINESS DISTRICT</td>\n",
       "      <td>729</td>\n",
       "      <td>...</td>\n",
       "      <td>Dismissed</td>\n",
       "      <td>2018-01-08 00:00:00</td>\n",
       "      <td>NaN</td>\n",
       "      <td>NaN</td>\n",
       "      <td>0</td>\n",
       "      <td>1513</td>\n",
       "      <td>400 s columbus dr, chicago, il</td>\n",
       "      <td>41.876886</td>\n",
       "      <td>-87.620693</td>\n",
       "      <td>POINT (-87.62069322093538 41.87688606754699)</td>\n",
       "    </tr>\n",
       "    <tr>\n",
       "      <th>3</th>\n",
       "      <td>9192672170</td>\n",
       "      <td>2018-01-05 13:14:00</td>\n",
       "      <td>415 S COLUMBUS DR</td>\n",
       "      <td>4e0ad89d0504a5949211cf74b27d09c10ae52968ee6299...</td>\n",
       "      <td>IL</td>\n",
       "      <td>PAS</td>\n",
       "      <td>NaN</td>\n",
       "      <td>0964190B</td>\n",
       "      <td>EXPIRED METER CENTRAL BUSINESS DISTRICT</td>\n",
       "      <td>729</td>\n",
       "      <td>...</td>\n",
       "      <td>Dismissed</td>\n",
       "      <td>2018-01-08 00:00:00</td>\n",
       "      <td>NaN</td>\n",
       "      <td>NaN</td>\n",
       "      <td>0</td>\n",
       "      <td>1392</td>\n",
       "      <td>400 s columbus dr, chicago, il</td>\n",
       "      <td>41.876886</td>\n",
       "      <td>-87.620693</td>\n",
       "      <td>POINT (-87.62069322093538 41.87688606754699)</td>\n",
       "    </tr>\n",
       "    <tr>\n",
       "      <th>4</th>\n",
       "      <td>9192624790</td>\n",
       "      <td>2018-01-05 16:22:00</td>\n",
       "      <td>415 S COLUMBUS DR</td>\n",
       "      <td>4e0ad89d0504a5949211cf74b27d09c10ae52968ee6299...</td>\n",
       "      <td>IL</td>\n",
       "      <td>PAS</td>\n",
       "      <td>NaN</td>\n",
       "      <td>0964190B</td>\n",
       "      <td>EXPIRED METER CENTRAL BUSINESS DISTRICT</td>\n",
       "      <td>729</td>\n",
       "      <td>...</td>\n",
       "      <td>Dismissed</td>\n",
       "      <td>2018-01-08 00:00:00</td>\n",
       "      <td>NaN</td>\n",
       "      <td>NaN</td>\n",
       "      <td>0</td>\n",
       "      <td>1487</td>\n",
       "      <td>400 s columbus dr, chicago, il</td>\n",
       "      <td>41.876886</td>\n",
       "      <td>-87.620693</td>\n",
       "      <td>POINT (-87.62069322093538 41.87688606754699)</td>\n",
       "    </tr>\n",
       "  </tbody>\n",
       "</table>\n",
       "<p>5 rows × 26 columns</p>\n",
       "</div>"
      ],
      "text/plain": [
       "   ticket_number           issue_date violation_location  \\\n",
       "0     9192421142  2018-01-01 14:41:00  415 S COLUMBUS DR   \n",
       "1     9192592505  2018-01-03 16:09:00  415 S COLUMBUS DR   \n",
       "2     9192592535  2018-01-04 14:41:00  415 S COLUMBUS DR   \n",
       "3     9192672170  2018-01-05 13:14:00  415 S COLUMBUS DR   \n",
       "4     9192624790  2018-01-05 16:22:00  415 S COLUMBUS DR   \n",
       "\n",
       "                                license_plate_number license_plate_state  \\\n",
       "0  4e0ad89d0504a5949211cf74b27d09c10ae52968ee6299...                  IL   \n",
       "1  4e0ad89d0504a5949211cf74b27d09c10ae52968ee6299...                  IL   \n",
       "2  4e0ad89d0504a5949211cf74b27d09c10ae52968ee6299...                  IL   \n",
       "3  4e0ad89d0504a5949211cf74b27d09c10ae52968ee6299...                  IL   \n",
       "4  4e0ad89d0504a5949211cf74b27d09c10ae52968ee6299...                  IL   \n",
       "\n",
       "  license_plate_type zipcode violation_code  \\\n",
       "0                PAS     NaN       0964190A   \n",
       "1                PAS     NaN       0964190B   \n",
       "2                PAS     NaN       0964190B   \n",
       "3                PAS     NaN       0964190B   \n",
       "4                PAS     NaN       0964190B   \n",
       "\n",
       "                      violation_description  unit  \\\n",
       "0  EXP. METER NON-CENTRAL BUSINESS DISTRICT   729   \n",
       "1   EXPIRED METER CENTRAL BUSINESS DISTRICT   729   \n",
       "2   EXPIRED METER CENTRAL BUSINESS DISTRICT   729   \n",
       "3   EXPIRED METER CENTRAL BUSINESS DISTRICT   729   \n",
       "4   EXPIRED METER CENTRAL BUSINESS DISTRICT   729   \n",
       "\n",
       "                       ...                      ticket_queue  \\\n",
       "0                      ...                         Dismissed   \n",
       "1                      ...                         Dismissed   \n",
       "2                      ...                         Dismissed   \n",
       "3                      ...                         Dismissed   \n",
       "4                      ...                         Dismissed   \n",
       "\n",
       "     ticket_queue_date  notice_level  hearing_disposition  notice_number  \\\n",
       "0  2018-01-03 00:00:00           NaN                  NaN              0   \n",
       "1  2018-01-05 00:00:00           NaN                  NaN              0   \n",
       "2  2018-01-08 00:00:00           NaN                  NaN              0   \n",
       "3  2018-01-08 00:00:00           NaN                  NaN              0   \n",
       "4  2018-01-08 00:00:00           NaN                  NaN              0   \n",
       "\n",
       "   officer                         address        lat        lng  \\\n",
       "0     1492  400 s columbus dr, chicago, il  41.876886 -87.620693   \n",
       "1     1503  400 s columbus dr, chicago, il  41.876886 -87.620693   \n",
       "2     1513  400 s columbus dr, chicago, il  41.876886 -87.620693   \n",
       "3     1392  400 s columbus dr, chicago, il  41.876886 -87.620693   \n",
       "4     1487  400 s columbus dr, chicago, il  41.876886 -87.620693   \n",
       "\n",
       "                                       geometry  \n",
       "0  POINT (-87.62069322093538 41.87688606754699)  \n",
       "1  POINT (-87.62069322093538 41.87688606754699)  \n",
       "2  POINT (-87.62069322093538 41.87688606754699)  \n",
       "3  POINT (-87.62069322093538 41.87688606754699)  \n",
       "4  POINT (-87.62069322093538 41.87688606754699)  \n",
       "\n",
       "[5 rows x 26 columns]"
      ]
     },
     "execution_count": 9,
     "metadata": {},
     "output_type": "execute_result"
    }
   ],
   "source": [
    "from shapely.geometry import Point\n",
    "import geopandas as gpd\n",
    "import matplotlib.pyplot as plt\n",
    "point_maker = lambda x: Point(x['lng'], x['lat'])\n",
    "geocoded_df.apply(point_maker, axis=1)\n",
    "\n",
    "geocoded_df['geometry'] = geocoded_df.apply(point_maker, axis=1)\n",
    "geocoded_df.head()"
   ]
  },
  {
   "cell_type": "code",
   "execution_count": 10,
   "metadata": {},
   "outputs": [],
   "source": [
    "# Get census tacts of Chicargo\n",
    "ZIP_SHP_PATH = os.path.join('zip://', 'CensusTracts2010.zip')\n",
    "coord_system = {'init': 'epsg:4326'}\n",
    "chicago_census_tracts = gpd.read_file(ZIP_SHP_PATH).to_crs({'init': 'epsg:4326'})"
   ]
  },
  {
   "cell_type": "code",
   "execution_count": 11,
   "metadata": {},
   "outputs": [],
   "source": [
    "def assign_census_tracts(df, shape_df, locid_var='census_tract_id'):\n",
    "    \"\"\"Joins DataFrame with region shapefile.\n",
    "    This function takes a DataFrame containing latitude and longitude values and\n",
    "    a GeopandasDataFrame that describes regions that those lat-long pairs are sorted\n",
    "    into. This should facilitate pairing with Census data that can introduce other\n",
    "    features like racial demographics.\n",
    "    Parameters\n",
    "    ----------\n",
    "    df : pandas.DataFrame or dask.DataFrame\n",
    "        DataFrame containing latitudes, longitudes, and location_id columns.\n",
    "    shape_df:    a GeopandasDataFrame containing regions to map to.\n",
    "    locid_var : string\n",
    "        Name of series to return. \n",
    "    \"\"\"\n",
    "\n",
    "    # make a copy since we will modify lats and lons\n",
    "#     localdf = df[['lng', 'lat']].copy()\n",
    "    localdf = df.copy()\n",
    "    \n",
    "    # missing lat lon info is indicated by nan. Fill with zero\n",
    "    # which is outside New York shapefile. \n",
    "    localdf['lng'] = localdf['lng'].fillna(value=0.)\n",
    "    localdf['lat'] = localdf['lat'].fillna(value=0.)\n",
    "    \n",
    "    shape_df = shape_df.to_crs({'init': 'epsg:4326'})\n",
    "\n",
    "    try:\n",
    "        local_gdf = gpd.GeoDataFrame(\n",
    "            localdf, crs={'init': 'epsg:4326'},\n",
    "            geometry=[Point(xy) for xy in zip(localdf['lng'], localdf['lat'])]\n",
    "        )\n",
    "\n",
    "        local_gdf = gpd.sjoin(local_gdf, shape_df, how='left', op='within')\n",
    "\n",
    "        return local_gdf\n",
    "    except ValueError as ve:\n",
    "        print(ve)\n",
    "        print(ve.stacktrace())\n",
    "        series = localdf['lng']\n",
    "        series = np.nan\n",
    "        return series"
   ]
  },
  {
   "cell_type": "code",
   "execution_count": 12,
   "metadata": {},
   "outputs": [],
   "source": [
    "full_df = assign_census_tracts(geocoded_df, chicago_census_tracts)"
   ]
  },
  {
   "cell_type": "code",
   "execution_count": 13,
   "metadata": {},
   "outputs": [
    {
     "data": {
      "text/plain": [
       "<matplotlib.axes._subplots.AxesSubplot at 0x7fc50ee75208>"
      ]
     },
     "execution_count": 13,
     "metadata": {},
     "output_type": "execute_result"
    },
    {
     "data": {
      "image/png": "[encoded data removed]",
      "text/plain": [
       "<Figure size 864x432 with 1 Axes>"
      ]
     },
     "metadata": {
      "needs_background": "light"
     },
     "output_type": "display_data"
    }
   ],
   "source": [
    "full_df.head()\n",
    "full_df.plot(figsize=(12,6))"
   ]
  },
  {
   "cell_type": "code",
   "execution_count": 14,
   "metadata": {},
   "outputs": [],
   "source": [
    "# Load Chicago city bound\n",
    "ZIP_SHP_PATH = os.path.join('zip://', 'data', 'Boundaries - City.zip')\n",
    "coord_system = {'init': 'epsg:4326'}\n",
    "chicago_boundary = gpd.read_file(ZIP_SHP_PATH)"
   ]
  },
  {
   "cell_type": "code",
   "execution_count": 15,
   "metadata": {},
   "outputs": [
    {
     "data": {
      "image/png": "[encoded data removed]",
      "text/plain": [
       "<Figure size 720x720 with 1 Axes>"
      ]
     },
     "metadata": {
      "needs_background": "light"
     },
     "output_type": "display_data"
    }
   ],
   "source": [
    "# Visualize Chicago city bound\n",
    "fig, ax = plt.subplots(figsize=(10,10))\n",
    "chicago_boundary.plot(ax=ax)\n",
    "ax.grid(True, alpha=0.7)"
   ]
  },
  {
   "cell_type": "code",
   "execution_count": 16,
   "metadata": {},
   "outputs": [
    {
     "data": {
      "text/plain": [
       "(50, 36)"
      ]
     },
     "execution_count": 16,
     "metadata": {},
     "output_type": "execute_result"
    }
   ],
   "source": [
    "# eliminate the outside points\n",
    "outside_points = full_df[(full_df['lat'] <= 41.63) | (full_df['lat'] >= 42.05) | \n",
    "                         (full_df['lng'] <= -88.0) | (full_df['lng'] >= -87.5)]\n",
    "outside_points.shape"
   ]
  },
  {
   "cell_type": "code",
   "execution_count": 17,
   "metadata": {},
   "outputs": [
    {
     "data": {
      "image/png": "[encoded data removed]",
      "text/plain": [
       "<Figure size 1080x720 with 1 Axes>"
      ]
     },
     "metadata": {
      "needs_background": "light"
     },
     "output_type": "display_data"
    }
   ],
   "source": [
    "# see the outsider coordinates\n",
    "fig, ax = plt.subplots(figsize=(15,10))\n",
    "outside_points.plot(ax=ax)\n",
    "ax.grid(True, alpha=0.7)"
   ]
  },
  {
   "cell_type": "code",
   "execution_count": 18,
   "metadata": {},
   "outputs": [],
   "source": [
    "class GeoSessions:\n",
    "    def __init__(self):\n",
    "        self.Arcgis = requests.Session()\n",
    "        self.Komoot = requests.Session()\n",
    "        self.USCensus = requests.Session()\n",
    "        self.OSM = requests.Session()\n",
    "\n",
    "def create_sessions():\n",
    "    return GeoSessions()"
   ]
  },
  {
   "cell_type": "code",
   "execution_count": 19,
   "metadata": {},
   "outputs": [],
   "source": [
    "def geocode_address(address, s):\n",
    "    g = geocoder.komoot(address, session=s.Komoot)\n",
    "    if (g.ok == False):\n",
    "        g = geocoder.osm(address, session=s.OSM)        \n",
    "    if (g.ok == False):\n",
    "        g = geocoder.uscensus(address, session=s.USCensus)\n",
    "    if (g.ok == False):\n",
    "        g = geocoder.arcgis(address, session=s.Arcgis)\n",
    "\n",
    "    return g"
   ]
  },
  {
   "cell_type": "code",
   "execution_count": 20,
   "metadata": {},
   "outputs": [],
   "source": [
    "s = create_sessions()"
   ]
  },
  {
   "cell_type": "code",
   "execution_count": 23,
   "metadata": {},
   "outputs": [],
   "source": [
    "for ind in outside_points.index:\n",
    "    tmp = geocode_address(geocoded_df.loc[ind, 'address'], s)\n",
    "    geocoded_df.loc[ind, 'lat'] = tmp.lat\n",
    "    geocoded_df.loc[ind, 'lng'] = tmp.lng\n",
    "\n",
    "full_df.loc[outside_points.index, 'lat'] = geocoded_df.loc[outside_points.index, 'lat']\n",
    "full_df.loc[outside_points.index, 'lng'] = geocoded_df.loc[outside_points.index, 'lng']"
   ]
  },
  {
   "cell_type": "code",
   "execution_count": 24,
   "metadata": {},
   "outputs": [],
   "source": [
    "full_df.loc[outside_points.index, 'geometry'] = full_df.iloc[outside_points.index].apply(point_maker, axis=1)"
   ]
  },
  {
   "cell_type": "code",
   "execution_count": 25,
   "metadata": {},
   "outputs": [],
   "source": [
    "# Look for points out of bounding box\n",
    "outside_points2 = full_df[(full_df['lat'] <= 41.63) | (full_df['lat'] >= 42.05) | \n",
    "                          (full_df['lng'] <= -88.0) | (full_df['lng'] >= -87.5)]"
   ]
  },
  {
   "cell_type": "code",
   "execution_count": 26,
   "metadata": {},
   "outputs": [
    {
     "data": {
      "text/plain": [
       "(49, 36)"
      ]
     },
     "execution_count": 26,
     "metadata": {},
     "output_type": "execute_result"
    }
   ],
   "source": [
    "outside_points2.shape\n"
   ]
  },
  {
   "cell_type": "code",
   "execution_count": 27,
   "metadata": {},
   "outputs": [
    {
     "data": {
      "image/png": "[encoded data removed]",
      "text/plain": [
       "<Figure size 1080x720 with 1 Axes>"
      ]
     },
     "metadata": {
      "needs_background": "light"
     },
     "output_type": "display_data"
    }
   ],
   "source": [
    "fig, ax = plt.subplots(figsize=(15,10))\n",
    "outside_points2.plot(ax=ax)\n",
    "ax.grid(True, alpha=0.7)"
   ]
  },
  {
   "cell_type": "code",
   "execution_count": 28,
   "metadata": {},
   "outputs": [
    {
     "data": {
      "text/plain": [
       "(49, 36)"
      ]
     },
     "execution_count": 28,
     "metadata": {},
     "output_type": "execute_result"
    }
   ],
   "source": [
    "# Look for points within that bounding box, but also outside of Chicago's boundary.\n",
    "chicago_poly = chicago_boundary.geometry.unary_union\n",
    "outside_chicago = full_df[~full_df.geometry.within(chicago_poly)]\n",
    "outside_chicago.shape"
   ]
  },
  {
   "cell_type": "code",
   "execution_count": 29,
   "metadata": {},
   "outputs": [
    {
     "data": {
      "image/png": "[encoded data removed]",
      "text/plain": [
       "<Figure size 1080x720 with 1 Axes>"
      ]
     },
     "metadata": {
      "needs_background": "light"
     },
     "output_type": "display_data"
    }
   ],
   "source": [
    "fig, ax = plt.subplots(figsize=(15,10))\n",
    "outside_chicago.plot(ax=ax)\n",
    "ax.grid(True, alpha=0.7)"
   ]
  },
  {
   "cell_type": "code",
   "execution_count": 34,
   "metadata": {},
   "outputs": [],
   "source": [
    "def geocode_address(address, s):\n",
    "    g = geocoder.komoot(address, session=s.Komoot)\n",
    "    if (g.ok == False):\n",
    "        g = geocoder.osm(address, session=s.OSM)        \n",
    "    if (g.ok == False):\n",
    "        g = geocoder.uscensus(address, session=s.USCensus)\n",
    "    if (g.ok == False):\n",
    "        g = geocoder.arcgis(address, session=s.Arcgis)\n",
    "    return g\n",
    "\n",
    "s = create_sessions()"
   ]
  },
  {
   "cell_type": "code",
   "execution_count": 35,
   "metadata": {},
   "outputs": [
    {
     "data": {
      "image/png": "[encoded data removed]",
      "text/plain": [
       "<Figure size 1080x720 with 1 Axes>"
      ]
     },
     "metadata": {
      "needs_background": "light"
     },
     "output_type": "display_data"
    }
   ],
   "source": [
    "for ind in outside_chicago.index:\n",
    "    tmp = geocode_address(full_df.loc[ind, 'address'], s)\n",
    "    full_df.loc[ind, 'lat'] = tmp.lat\n",
    "    full_df.loc[ind, 'lng'] = tmp.lng\n",
    "\n",
    "full_df.loc[outside_chicago.index, 'geometry'] = full_df.iloc[outside_chicago.index].apply(point_maker, axis=1)\n",
    "\n",
    "\n",
    "fig, ax = plt.subplots(figsize=(15,10))\n",
    "full_df.plot(ax=ax)\n",
    "ax.grid(True, alpha=0.7)\n"
   ]
  },
  {
   "cell_type": "code",
   "execution_count": 41,
   "metadata": {},
   "outputs": [
    {
     "data": {
      "text/plain": [
       "Text(0.5, 1.0, 'Year 2018 Geolocation Distribution of Expired Meter Tickets')"
      ]
     },
     "execution_count": 41,
     "metadata": {},
     "output_type": "execute_result"
    },
    {
     "data": {
      "image/png": "[encoded data removed]",
      "text/plain": [
       "<Figure size 864x576 with 1 Axes>"
      ]
     },
     "metadata": {
      "needs_background": "light"
     },
     "output_type": "display_data"
    }
   ],
   "source": [
    "fig, ax = plt.subplots(figsize = (12,8))\n",
    "chicago_boundary.plot(ax=ax, color='black')\n",
    "chicago_census_tracts.plot(ax=ax, color='grey')\n",
    "full_df.plot(ax=ax,markersize = 2, marker = 'o', label = \"Expired Meter Tickets\",)\n",
    "plt.xlim(-88.0, -87.5)\n",
    "plt.ylim(41.63,42.05)\n",
    "plt.title(\"Year 2018 Geolocation Distribution of Expired Meter Tickets\",fontsize=18)"
   ]
  },
  {
   "cell_type": "code",
   "execution_count": null,
   "metadata": {},
   "outputs": [],
   "source": []
  },
  {
   "cell_type": "code",
   "execution_count": null,
   "metadata": {},
   "outputs": [],
   "source": []
  }
 ],
 "metadata": {
  "kernelspec": {
   "display_name": "Python 3",
   "language": "python",
   "name": "python3"
  },
  "language_info": {
   "codemirror_mode": {
    "name": "ipython",
    "version": 3
   },
   "file_extension": ".py",
   "mimetype": "text/x-python",
   "name": "python",
   "nbconvert_exporter": "python",
   "pygments_lexer": "ipython3",
   "version": "3.7.1"
  }
 },
 "nbformat": 4,
 "nbformat_minor": 2
}
